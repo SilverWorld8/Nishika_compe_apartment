{
 "cells": [
  {
   "cell_type": "code",
   "execution_count": 1,
   "id": "1a98d2e1-5546-43bc-95c2-1c34ae54b650",
   "metadata": {},
   "outputs": [
    {
     "data": {
      "text/plain": [
       "'/Users/hayashidanaoki/jupyter_home/nishika_conpe/hand_apartment'"
      ]
     },
     "execution_count": 1,
     "metadata": {},
     "output_type": "execute_result"
    }
   ],
   "source": [
    "import pandas as pd\n",
    "import os \n",
    "import glob\n",
    "import re\n",
    "import datetime as dt\n",
    "\n",
    "#os.chdir('./nishika_conpe/hand_apartment')\n",
    "os.getcwd()"
   ]
  },
  {
   "cell_type": "markdown",
   "id": "fadfdb52-e4c9-4124-a0b3-0b02428f0ae7",
   "metadata": {},
   "source": [
    "## データ読み取り"
   ]
  },
  {
   "cell_type": "code",
   "execution_count": 68,
   "id": "f8a71f52-e859-44ea-831c-6fda09e39ced",
   "metadata": {},
   "outputs": [
    {
     "name": "stderr",
     "output_type": "stream",
     "text": [
      "/usr/local/lib/python3.7/site-packages/IPython/core/interactiveshell.py:3166: DtypeWarning: Columns (10) have mixed types.Specify dtype option on import or set low_memory=False.\n",
      "  interactivity=interactivity, compiler=compiler, result=result)\n"
     ]
    }
   ],
   "source": [
    "train_df = pd.DataFrame()\n",
    "for i in glob.glob('./input/train/*.csv'):\n",
    "    temp = pd.read_csv(i)\n",
    "    train_df = train_df.append(temp)\n",
    "    \n",
    "test_df = pd.read_csv('./input/test.csv')"
   ]
  },
  {
   "cell_type": "markdown",
   "id": "1262ae0c-978c-4b4f-ae72-434da6196431",
   "metadata": {},
   "source": [
    " ## 前処理"
   ]
  },
  {
   "cell_type": "code",
   "execution_count": 165,
   "id": "5e681c79-e930-4270-a3e7-a48e71da7a44",
   "metadata": {
    "tags": []
   },
   "outputs": [],
   "source": [
    "def processing_job(df):\n",
    "    #列名変更\n",
    "    renmae_dict ={ '種類':'type', '地域':'area_name', '市区町村コード':'municipality_code', \n",
    "              '都道府県名':'prefectures_name', '市区町村名':'municipality_name'\n",
    "              , '地区名':'district_name', '最寄駅：名称':'nearest_station_name', \n",
    "              '最寄駅：距離（分）':'nearest_station_distance', '間取り':'floor_plan', \n",
    "              '面積（㎡）':'room_area', '土地の形状':'area_shape', '間口':'frontage', \n",
    "              '延床面積（㎡）':'total_floor_area', '建築年':'construction_year', \n",
    "              '建物の構造':'construction', '用途':'opt', '今後の利用目的':'next_opt', \n",
    "              '前面道路：方位':'load_direction', '前面道路：種類':'load_type', \n",
    "              '前面道路：幅員（ｍ）':'load_width', '都市計画':'city_plan', '建ぺい率（％）':'building_coverage_ratio', \n",
    "              '容積率（％）':'floor_area_ratio', '取引時点':'trading_date', '改装':'rehome_flg', \n",
    "              '取引の事情等':'trading_reason', '取引価格（総額）_log':'trading_price_log'}\n",
    "    df = df.rename(columns=renmae_dict)\n",
    "    \n",
    "    #最寄駅：距離（分）　異常値加工\n",
    "    df['nearest_station_distance'] = df['nearest_station_distance'].replace('1H30?2H','105').replace('1H?1H30','75').replace('2H?','120').replace('30分?60分','45')\n",
    "    df['nearest_station_distance'] = df['nearest_station_distance'].fillna(0)\n",
    "    \n",
    "    #数値データnull → 0\n",
    "    df['building_coverage_ratio'] = df['building_coverage_ratio'].fillna(0)\n",
    "    df['floor_area_ratio'] = df['floor_area_ratio'].fillna(0)\n",
    "    \n",
    "    #築年数カラム作成\n",
    "    df['wareki'] = df['construction_year'].str[:2]\n",
    "    wareki_dict = {'戦前':'1900', '昭和':'1926', '平成':'1989', '令和':'2019'}\n",
    "    df['wareki_year'] = df['wareki'].map(wareki_dict)\n",
    "    df['year'] = df['construction_year'].str[2:-1]\n",
    "    df['year'] = df['year'].replace('',0)\n",
    "    df['construction_age'] = df['wareki_year'].fillna(0).astype('int') + df['year'].fillna(0).astype('int')\n",
    "    \n",
    "    #都道府県ラベル化\n",
    "    area_japan = {\"北海道\": 1, \"青森県\": 2, \"岩手県\": 3, \"宮城県\": 4, \"秋田県\": 5, \"山形県\": 6, \n",
    "              \"福島県\": 7, \"茨城県\": 8, \"栃木県\": 9, \"群馬県\": 10, \"埼玉県\": 11, \"千葉県\": 12, \n",
    "              \"東京都\": 13, \"神奈川県\": 14, \"新潟県\": 15, \"富山県\": 16, \"石川県\": 17, \"福井県\": 18,\n",
    "              \"山梨県\": 19, \"長野県\": 20, \"岐阜県\": 21, \"静岡県\": 22, \"愛知県\": 23, \"三重県\": 24,\n",
    "              \"滋賀県\": 25, \"京都府\": 26, \"大阪府\": 27, \"兵庫県\": 28, \"奈良県\": 29, \"和歌山県\": 30,\n",
    "              \"鳥取県\": 31, \"島根県\": 32, \"岡山県\": 33, \"広島県\": 34, \"山口県\": 35, \"徳島県\": 36,\n",
    "              \"香川県\": 37, \"愛媛県\": 38, \"高知県\": 39, \"福岡県\": 40, \"佐賀県\": 41, \"長崎県\": 42,\n",
    "              \"熊本県\": 43, \"大分県\": 44, \"宮崎県\": 45, \"鹿児島県\": 46, \"沖縄県\": 47\n",
    "    }\n",
    "    df['prefectures_name'] = df['prefectures_name'].map(area_japan)\n",
    "    \n",
    "    #面積　2000㎡以上　→ 2000\n",
    "    df['room_area'] = df['room_area'].replace('2000㎡以上',2000)\n",
    "    \n",
    "    #取引経過日数カラム作成\n",
    "    df['now_yaer'] = pd.to_datetime(dt.date.today())\n",
    "    df['trading_yaer'] = pd.to_datetime(df['trading_date'].str[:4], format='%Y')\n",
    "    df['trading_elapsed_date'] = df['now_yaer'] - df['trading_yaer']\n",
    "    df['trading_elapsed_date'] = df['trading_elapsed_date'].dt.days\n",
    "    \n",
    "    #不要カラム削除\n",
    "    drop_columns = ['ID','type','area_name','municipality_code','municipality_name','district_name','nearest_station_name',\n",
    "                'area_shape','frontage','total_floor_area','construction_year','load_direction',\n",
    "                'load_type','load_width','trading_date','wareki','wareki_year','year','now_yaer','trading_yaer']\n",
    "    df = df.drop(drop_columns, axis=1)\n",
    "    \n",
    "    return df"
   ]
  },
  {
   "cell_type": "code",
   "execution_count": 166,
   "id": "968372f3-e8c1-4ba4-a106-38fdbdf505a2",
   "metadata": {},
   "outputs": [],
   "source": [
    "train_df_processing = processing_job(train_df)\n",
    "test_df_processing = processing_job(test_df)\n"
   ]
  },
  {
   "cell_type": "code",
   "execution_count": 167,
   "id": "fbabf595-e914-4723-960e-467a93fc5f50",
   "metadata": {},
   "outputs": [],
   "source": [
    "# 結合する（一応フラグを付けるが大抵はTargetの有無で判別できる）\n",
    "train_df_processing['isTrain'] = True\n",
    "test_df_processing['isTrain'] = False\n",
    "df = pd.concat([train_df_processing, test_df_processing])\n",
    "\n",
    "#ダミー変数化\n",
    "dummy_target = ['floor_plan','construction','opt','next_opt','city_plan','rehome_flg','trading_reason']\n",
    "for i in dummy_target:\n",
    "    df = pd.concat([df, pd.get_dummies(df[i])], axis=1)\n",
    "#不要カラム削除\n",
    "df = df.drop(dummy_target, axis=1)\n",
    "\n",
    "#nanを一つでも含むレコードを削除\n",
    "#df = df.dropna(axis = 0, how = 'any')\n",
    "\n",
    "#再度分離\n",
    "train = df.loc[df.isTrain].drop('isTrain', axis=1)\n",
    "test = df.loc[~df.isTrain].drop('isTrain', axis=1)"
   ]
  },
  {
   "cell_type": "markdown",
   "id": "6fca8b4b-2f33-4e6e-8f78-5d39594e5362",
   "metadata": {},
   "source": [
    "## 学習"
   ]
  },
  {
   "cell_type": "code",
   "execution_count": 168,
   "id": "87e86138-2d07-43e5-b9a6-c2e57cfb4206",
   "metadata": {},
   "outputs": [],
   "source": [
    "from sklearn import linear_model\n",
    "from sklearn.metrics import mean_squared_error, accuracy_score, precision_score, recall_score"
   ]
  },
  {
   "cell_type": "code",
   "execution_count": 228,
   "id": "638515fe-2871-40ba-905c-9190edcd1eb3",
   "metadata": {},
   "outputs": [],
   "source": [
    "X_train = train.drop(\"trading_price_log\", axis=1)\n",
    "Y_train = train[\"trading_price_log\"]\n",
    "\n",
    "X_test = test.drop(\"trading_price_log\", axis=1)"
   ]
  },
  {
   "cell_type": "code",
   "execution_count": 181,
   "id": "b786ef39-3850-4257-b952-7e097764c1d9",
   "metadata": {},
   "outputs": [],
   "source": [
    "# データセットを分割する関数の読み込み\n",
    "from sklearn.model_selection import train_test_split\n",
    "\n",
    "# 訓練用データセットとテスト用データセットへの分割\n",
    "x_train, x_test, t_train, t_test = train_test_split(X_train, Y_train, test_size=0.1, random_state=0)"
   ]
  },
  {
   "cell_type": "code",
   "execution_count": 183,
   "id": "0ea4707f-59cf-47cb-b01c-4e681feda441",
   "metadata": {},
   "outputs": [],
   "source": [
    "model = linear_model.LinearRegression()"
   ]
  },
  {
   "cell_type": "code",
   "execution_count": 184,
   "id": "29e92223-a7bd-42ea-b0f0-a23a2cc85d8a",
   "metadata": {},
   "outputs": [
    {
     "data": {
      "text/plain": [
       "LinearRegression()"
      ]
     },
     "execution_count": 184,
     "metadata": {},
     "output_type": "execute_result"
    }
   ],
   "source": [
    "model.fit(x_train, t_train)"
   ]
  },
  {
   "cell_type": "markdown",
   "id": "6252581d-cad4-4721-80c7-353ac7c630ba",
   "metadata": {},
   "source": [
    "## 検証データ評価"
   ]
  },
  {
   "cell_type": "code",
   "execution_count": 185,
   "id": "1da66e59-3a02-4ff1-b050-f92b40476232",
   "metadata": {},
   "outputs": [
    {
     "data": {
      "text/plain": [
       "0.08197689430484291"
      ]
     },
     "execution_count": 185,
     "metadata": {},
     "output_type": "execute_result"
    }
   ],
   "source": [
    "mean_squared_error(t_test ,model.predict(x_test))"
   ]
  },
  {
   "cell_type": "code",
   "execution_count": 186,
   "id": "d6559c69-8508-49c6-aca4-81ed5fffceda",
   "metadata": {},
   "outputs": [
    {
     "name": "stdout",
     "output_type": "stream",
     "text": [
      "       Name  Coefficients\n",
      "101  店舗、その他     -4.101226\n",
      "103  駐車場、店舗     -3.146027\n",
      "98   倉庫、駐車場     -1.552998\n",
      "99       工場     -1.092540\n",
      "84   事務所、倉庫     -0.838474\n",
      "..      ...           ...\n",
      "23       ２Ｄ      0.284342\n",
      "52       ４Ｌ      0.305479\n",
      "76    ＲＣ、木造      0.362015\n",
      "16     １Ｌ＋Ｓ      0.385494\n",
      "30      ２ＬＤ      0.432166\n",
      "\n",
      "[135 rows x 2 columns]\n"
     ]
    }
   ],
   "source": [
    "# 偏回帰係数\n",
    "coef_out = pd.DataFrame({\"Name\":X_train.columns,\n",
    "                    \"Coefficients\":model.coef_}).sort_values(by='Coefficients')\n",
    "print(coef_out)\n",
    "coef_out.to_csv('./output/Coefficients.csv')"
   ]
  },
  {
   "cell_type": "code",
   "execution_count": 187,
   "id": "41f0f282-0ca1-411a-aee5-73693590eeb6",
   "metadata": {},
   "outputs": [
    {
     "data": {
      "text/plain": [
       "array([-5.78578522e-03, -5.88201451e-03,  5.45288108e-03, -2.71586118e-03,\n",
       "        9.46321043e-04,  3.25423023e-05, -4.31519681e-06, -6.87580478e-02,\n",
       "        2.27622306e-01,  1.50035116e-01, -2.59278206e-02, -2.32020524e-01,\n",
       "       -2.90811431e-02, -3.51462896e-02,  4.79750035e-02, -2.40399769e-01,\n",
       "        3.85494134e-01,  2.10345840e-01,  1.49393786e-01,  1.80236635e-01,\n",
       "       -1.08669306e-01, -1.89799517e-01,  1.00892896e-01,  2.84342409e-01,\n",
       "       -5.30360741e-02, -2.34050883e-02, -7.82827951e-02, -1.16920322e-01,\n",
       "        7.17423806e-02,  1.76469092e-01,  4.32165988e-01,  1.02149618e-01,\n",
       "        1.06617982e-01,  6.00367575e-02,  1.27704103e-01,  2.86265757e-02,\n",
       "        8.95988697e-02, -2.81099853e-02, -1.51110520e-01, -1.46415575e-01,\n",
       "       -2.65786271e-01, -2.03328538e-01, -9.55674980e-02,  1.22283832e-01,\n",
       "        8.95741100e-02,  1.64983470e-01,  1.03223609e-01, -1.39383684e-01,\n",
       "        1.48176926e-02, -2.15148689e-01, -2.06814494e-01, -2.51561329e-01,\n",
       "        3.05479145e-01, -1.19711044e-01,  7.30468281e-02, -1.39846446e-01,\n",
       "        1.40736131e-02, -2.17152648e-01, -3.65250755e-02, -4.39085643e-02,\n",
       "        2.42618184e-01, -1.25296403e-01, -1.30336562e-01, -2.08296389e-01,\n",
       "       -3.27081790e-01, -5.55111512e-16, -3.10421567e-01, -4.34623323e-01,\n",
       "       -4.77667827e-01, -3.41058670e-01, -2.63930005e-01, -8.97019226e-02,\n",
       "        1.41318785e-01, -1.31737967e-01,  5.68239924e-02,  1.11801425e-01,\n",
       "        3.62014720e-01,  1.16252665e-01, -5.22472115e-02, -9.93097356e-02,\n",
       "       -5.04192689e-02,  3.81810851e-03, -3.24661703e-01, -2.16946921e-01,\n",
       "       -8.38474151e-01, -1.40753739e-01, -3.41801648e-01, -1.27825549e-02,\n",
       "       -1.13434208e-01,  1.59358469e-02,  2.49376858e-01,  4.44089210e-16,\n",
       "       -2.54063415e-01,  6.37286200e-02, -2.02812317e-02,  4.44089210e-16,\n",
       "       -7.85762012e-01, -3.07787951e-01, -1.55299806e+00, -1.09254009e+00,\n",
       "       -1.18983184e-01, -4.10122615e+00, -5.69109385e-01, -3.14602659e+00,\n",
       "        1.33728247e-02, -2.21330827e-02,  4.99957596e-02,  1.13229573e-02,\n",
       "       -1.17848327e-01,  2.98595980e-03,  1.25654762e-01, -1.59433016e-01,\n",
       "       -2.64567855e-01, -3.17322453e-02,  2.02419925e-02,  1.95387996e-01,\n",
       "       -5.97291345e-02,  7.54468535e-02, -6.84759582e-02, -6.42816452e-02,\n",
       "        1.10386432e-01, -2.24257077e-03, -6.96730388e-03, -5.57094385e-01,\n",
       "       -1.77430422e-02, -1.65475322e-02, -1.94008719e-01, -1.28367720e-01,\n",
       "       -4.47572011e-01, -4.57304012e-01, -2.01518875e-01, -4.49393396e-01,\n",
       "       -1.78631787e-01, -3.63083087e-01, -6.87896878e-02])"
      ]
     },
     "execution_count": 187,
     "metadata": {},
     "output_type": "execute_result"
    }
   ],
   "source": [
    "model.coef_"
   ]
  },
  {
   "cell_type": "code",
   "execution_count": 188,
   "id": "1690361a-d992-4be1-9bc9-18d33907b554",
   "metadata": {},
   "outputs": [
    {
     "data": {
      "text/plain": [
       "6.915235445581961"
      ]
     },
     "execution_count": 188,
     "metadata": {},
     "output_type": "execute_result"
    }
   ],
   "source": [
    "model.intercept_"
   ]
  },
  {
   "cell_type": "code",
   "execution_count": 189,
   "id": "fbaeb4e4-96e2-4df5-ba51-bcd847ec9a81",
   "metadata": {},
   "outputs": [
    {
     "data": {
      "text/plain": [
       "0.38838201308538545"
      ]
     },
     "execution_count": 189,
     "metadata": {},
     "output_type": "execute_result"
    }
   ],
   "source": [
    "#決定係数出力\n",
    "model.score(x_train,t_train)"
   ]
  },
  {
   "cell_type": "markdown",
   "id": "41b038ea-d4f0-476e-b079-e7c5a7218d25",
   "metadata": {},
   "source": [
    "## テストデータ評価"
   ]
  },
  {
   "cell_type": "code",
   "execution_count": 194,
   "id": "40f535c6-cba0-4583-b51d-42e8c8055885",
   "metadata": {},
   "outputs": [],
   "source": [
    "Y_test = model.predict(X_test)"
   ]
  },
  {
   "cell_type": "code",
   "execution_count": 195,
   "id": "0638ac9f-11a8-4a85-8c7c-d204ee779f29",
   "metadata": {},
   "outputs": [],
   "source": [
    "X_test['取引価格（総額）_log'] = Y_test\n",
    "\n"
   ]
  },
  {
   "cell_type": "code",
   "execution_count": 201,
   "id": "c4a12d3c-9346-40f8-909d-f380cd834f87",
   "metadata": {},
   "outputs": [],
   "source": [
    "#提出データ\n",
    "pd.concat([test_df['ID'],X_test['取引価格（総額）_log']], axis=1).to_csv('./output/submission.csv', index = False)"
   ]
  },
  {
   "cell_type": "markdown",
   "id": "96649b03-5d6e-4cb5-9686-d0bf68c9660f",
   "metadata": {},
   "source": [
    "## リッジ回帰"
   ]
  },
  {
   "cell_type": "code",
   "execution_count": 180,
   "id": "a1f60139-7cf9-4807-9a28-1dc1a29a54a9",
   "metadata": {},
   "outputs": [],
   "source": [
    "from sklearn.linear_model import Ridge"
   ]
  },
  {
   "cell_type": "code",
   "execution_count": 217,
   "id": "ed76373d-2cbd-423e-a1b6-7fd1d47bcb1a",
   "metadata": {
    "collapsed": true,
    "jupyter": {
     "outputs_hidden": true
    },
    "tags": []
   },
   "outputs": [
    {
     "name": "stdout",
     "output_type": "stream",
     "text": [
      "0.1\n",
      "0.2\n",
      "0.30000000000000004\n",
      "0.4\n",
      "0.5\n",
      "0.6000000000000001\n",
      "0.7000000000000001\n",
      "0.8\n",
      "0.9\n",
      "1.0\n",
      "1.1\n",
      "1.2000000000000002\n",
      "1.3\n",
      "1.4000000000000001\n",
      "1.5\n",
      "1.6\n",
      "1.7000000000000002\n",
      "1.8\n",
      "1.9000000000000001\n",
      "2.0\n",
      "2.1\n",
      "2.2\n",
      "2.3000000000000003\n",
      "2.4000000000000004\n",
      "2.5\n",
      "2.6\n",
      "2.7\n",
      "2.8000000000000003\n",
      "2.9000000000000004\n",
      "3.0\n",
      "3.1\n",
      "3.2\n",
      "3.3000000000000003\n",
      "3.4000000000000004\n",
      "3.5\n",
      "3.6\n",
      "3.7\n",
      "3.8000000000000003\n",
      "3.9000000000000004\n",
      "4.0\n",
      "4.1000000000000005\n",
      "4.2\n",
      "4.3\n",
      "4.4\n",
      "4.5\n",
      "4.6000000000000005\n",
      "4.7\n",
      "4.800000000000001\n",
      "4.9\n",
      "5.0\n",
      "5.1000000000000005\n",
      "5.2\n",
      "5.300000000000001\n",
      "5.4\n",
      "5.5\n",
      "5.6000000000000005\n",
      "5.7\n",
      "5.800000000000001\n",
      "5.9\n",
      "6.0\n",
      "6.1000000000000005\n",
      "6.2\n",
      "6.300000000000001\n",
      "6.4\n",
      "6.5\n",
      "6.6000000000000005\n",
      "6.7\n",
      "6.800000000000001\n",
      "6.9\n",
      "7.0\n",
      "7.1000000000000005\n",
      "7.2\n",
      "7.300000000000001\n",
      "7.4\n",
      "7.5\n",
      "7.6000000000000005\n",
      "7.7\n",
      "7.800000000000001\n",
      "7.9\n",
      "8.0\n",
      "8.1\n",
      "8.200000000000001\n",
      "8.3\n",
      "8.4\n",
      "8.5\n",
      "8.6\n",
      "8.700000000000001\n",
      "8.8\n",
      "8.9\n",
      "9.0\n",
      "9.1\n",
      "9.200000000000001\n",
      "9.3\n",
      "9.4\n",
      "9.5\n",
      "9.600000000000001\n",
      "9.700000000000001\n",
      "9.8\n",
      "9.9\n",
      "10.0\n"
     ]
    }
   ],
   "source": [
    "list_alpha = [n*0.1 for n in range(1, 101)]\n",
    "list_coef = []\n",
    "list_score = []\n",
    "\n",
    "for n_alpha in list_alpha:\n",
    "    print(n_alpha)\n",
    "    # Ridge\n",
    "    ridge = Ridge(alpha=n_alpha)\n",
    "    ridge.fit(x_train, t_train)\n",
    "\n",
    "    # 予測　\n",
    "    ridge_pred = ridge.predict(x_test)\n",
    "\n",
    "    # スコア\n",
    "    score = ridge.score(x_test, t_test)\n",
    "    \n",
    "    list_coef.append(ridge.coef_)\n",
    "    list_score.append(score)"
   ]
  },
  {
   "cell_type": "code",
   "execution_count": 229,
   "id": "838c1bc1-8153-4767-ba01-2b707ac118ae",
   "metadata": {},
   "outputs": [
    {
     "data": {
      "text/html": [
       "<div>\n",
       "<style scoped>\n",
       "    .dataframe tbody tr th:only-of-type {\n",
       "        vertical-align: middle;\n",
       "    }\n",
       "\n",
       "    .dataframe tbody tr th {\n",
       "        vertical-align: top;\n",
       "    }\n",
       "\n",
       "    .dataframe thead th {\n",
       "        text-align: right;\n",
       "    }\n",
       "</style>\n",
       "<table border=\"1\" class=\"dataframe\">\n",
       "  <thead>\n",
       "    <tr style=\"text-align: right;\">\n",
       "      <th></th>\n",
       "      <th>prefectures_name</th>\n",
       "      <th>nearest_station_distance</th>\n",
       "      <th>room_area</th>\n",
       "      <th>building_coverage_ratio</th>\n",
       "      <th>floor_area_ratio</th>\n",
       "      <th>construction_age</th>\n",
       "      <th>trading_elapsed_date</th>\n",
       "      <th>オープンフロア</th>\n",
       "      <th>スタジオ</th>\n",
       "      <th>メゾネット</th>\n",
       "      <th>...</th>\n",
       "      <th>未改装</th>\n",
       "      <th>その他事情有り</th>\n",
       "      <th>他の権利・負担付き</th>\n",
       "      <th>他の権利・負担付き、調停・競売等</th>\n",
       "      <th>瑕疵有りの可能性</th>\n",
       "      <th>調停・競売等</th>\n",
       "      <th>調停・競売等、瑕疵有りの可能性</th>\n",
       "      <th>関係者間取引</th>\n",
       "      <th>関係者間取引、瑕疵有りの可能性</th>\n",
       "      <th>関係者間取引、調停・競売等</th>\n",
       "    </tr>\n",
       "  </thead>\n",
       "  <tbody>\n",
       "    <tr>\n",
       "      <th>0</th>\n",
       "      <td>1</td>\n",
       "      <td>26</td>\n",
       "      <td>75</td>\n",
       "      <td>40.0</td>\n",
       "      <td>60.0</td>\n",
       "      <td>1990</td>\n",
       "      <td>466</td>\n",
       "      <td>0</td>\n",
       "      <td>0</td>\n",
       "      <td>0</td>\n",
       "      <td>...</td>\n",
       "      <td>1</td>\n",
       "      <td>0</td>\n",
       "      <td>0</td>\n",
       "      <td>0</td>\n",
       "      <td>0</td>\n",
       "      <td>0</td>\n",
       "      <td>0</td>\n",
       "      <td>0</td>\n",
       "      <td>0</td>\n",
       "      <td>0</td>\n",
       "    </tr>\n",
       "    <tr>\n",
       "      <th>1</th>\n",
       "      <td>1</td>\n",
       "      <td>2</td>\n",
       "      <td>45</td>\n",
       "      <td>80.0</td>\n",
       "      <td>400.0</td>\n",
       "      <td>1992</td>\n",
       "      <td>466</td>\n",
       "      <td>0</td>\n",
       "      <td>0</td>\n",
       "      <td>0</td>\n",
       "      <td>...</td>\n",
       "      <td>1</td>\n",
       "      <td>0</td>\n",
       "      <td>0</td>\n",
       "      <td>0</td>\n",
       "      <td>0</td>\n",
       "      <td>0</td>\n",
       "      <td>0</td>\n",
       "      <td>0</td>\n",
       "      <td>0</td>\n",
       "      <td>0</td>\n",
       "    </tr>\n",
       "    <tr>\n",
       "      <th>2</th>\n",
       "      <td>1</td>\n",
       "      <td>2</td>\n",
       "      <td>50</td>\n",
       "      <td>80.0</td>\n",
       "      <td>400.0</td>\n",
       "      <td>1990</td>\n",
       "      <td>466</td>\n",
       "      <td>0</td>\n",
       "      <td>0</td>\n",
       "      <td>0</td>\n",
       "      <td>...</td>\n",
       "      <td>0</td>\n",
       "      <td>0</td>\n",
       "      <td>0</td>\n",
       "      <td>0</td>\n",
       "      <td>0</td>\n",
       "      <td>0</td>\n",
       "      <td>0</td>\n",
       "      <td>0</td>\n",
       "      <td>0</td>\n",
       "      <td>0</td>\n",
       "    </tr>\n",
       "    <tr>\n",
       "      <th>3</th>\n",
       "      <td>1</td>\n",
       "      <td>3</td>\n",
       "      <td>80</td>\n",
       "      <td>80.0</td>\n",
       "      <td>400.0</td>\n",
       "      <td>1998</td>\n",
       "      <td>466</td>\n",
       "      <td>0</td>\n",
       "      <td>0</td>\n",
       "      <td>0</td>\n",
       "      <td>...</td>\n",
       "      <td>0</td>\n",
       "      <td>0</td>\n",
       "      <td>0</td>\n",
       "      <td>0</td>\n",
       "      <td>0</td>\n",
       "      <td>0</td>\n",
       "      <td>0</td>\n",
       "      <td>0</td>\n",
       "      <td>0</td>\n",
       "      <td>0</td>\n",
       "    </tr>\n",
       "    <tr>\n",
       "      <th>4</th>\n",
       "      <td>1</td>\n",
       "      <td>3</td>\n",
       "      <td>20</td>\n",
       "      <td>80.0</td>\n",
       "      <td>400.0</td>\n",
       "      <td>1982</td>\n",
       "      <td>466</td>\n",
       "      <td>0</td>\n",
       "      <td>0</td>\n",
       "      <td>0</td>\n",
       "      <td>...</td>\n",
       "      <td>1</td>\n",
       "      <td>0</td>\n",
       "      <td>0</td>\n",
       "      <td>0</td>\n",
       "      <td>0</td>\n",
       "      <td>0</td>\n",
       "      <td>0</td>\n",
       "      <td>0</td>\n",
       "      <td>0</td>\n",
       "      <td>0</td>\n",
       "    </tr>\n",
       "  </tbody>\n",
       "</table>\n",
       "<p>5 rows × 135 columns</p>\n",
       "</div>"
      ],
      "text/plain": [
       "   prefectures_name nearest_station_distance room_area  \\\n",
       "0                 1                       26        75   \n",
       "1                 1                        2        45   \n",
       "2                 1                        2        50   \n",
       "3                 1                        3        80   \n",
       "4                 1                        3        20   \n",
       "\n",
       "   building_coverage_ratio  floor_area_ratio  construction_age  \\\n",
       "0                     40.0              60.0              1990   \n",
       "1                     80.0             400.0              1992   \n",
       "2                     80.0             400.0              1990   \n",
       "3                     80.0             400.0              1998   \n",
       "4                     80.0             400.0              1982   \n",
       "\n",
       "   trading_elapsed_date  オープンフロア  スタジオ  メゾネット  ...  未改装  その他事情有り  他の権利・負担付き  \\\n",
       "0                   466        0     0      0  ...    1        0          0   \n",
       "1                   466        0     0      0  ...    1        0          0   \n",
       "2                   466        0     0      0  ...    0        0          0   \n",
       "3                   466        0     0      0  ...    0        0          0   \n",
       "4                   466        0     0      0  ...    1        0          0   \n",
       "\n",
       "   他の権利・負担付き、調停・競売等  瑕疵有りの可能性  調停・競売等  調停・競売等、瑕疵有りの可能性  関係者間取引  \\\n",
       "0                 0         0       0                0       0   \n",
       "1                 0         0       0                0       0   \n",
       "2                 0         0       0                0       0   \n",
       "3                 0         0       0                0       0   \n",
       "4                 0         0       0                0       0   \n",
       "\n",
       "   関係者間取引、瑕疵有りの可能性  関係者間取引、調停・競売等  \n",
       "0                0              0  \n",
       "1                0              0  \n",
       "2                0              0  \n",
       "3                0              0  \n",
       "4                0              0  \n",
       "\n",
       "[5 rows x 135 columns]"
      ]
     },
     "execution_count": 229,
     "metadata": {},
     "output_type": "execute_result"
    }
   ],
   "source": [
    "X_test.head()"
   ]
  },
  {
   "cell_type": "code",
   "execution_count": 205,
   "id": "e1aad972-f954-4247-b465-f0a1f74482e0",
   "metadata": {},
   "outputs": [],
   "source": [
    "import matplotlib.pyplot as plt"
   ]
  },
  {
   "cell_type": "code",
   "execution_count": 219,
   "id": "dff6cb8c-1764-4545-a840-3810b00071ab",
   "metadata": {},
   "outputs": [
    {
     "data": {
      "image/png": "[encoded data removed]",
      "text/plain": [
       "<Figure size 1296x504 with 2 Axes>"
      ]
     },
     "metadata": {
      "needs_background": "light"
     },
     "output_type": "display_data"
    }
   ],
   "source": [
    "plt.figure(figsize=(18, 7))\n",
    "\n",
    "plt.subplot(1, 2, 1)\n",
    "plt.title(\"Alpha vs Coef\", fontweight=\"bold\", size=18)\n",
    "plt.xlabel(\"alpha\")\n",
    "plt.ylabel(\"Coef\")\n",
    "plt.ylim(0, 10)\n",
    "plt.plot(list_alpha, list_coef, \"-b\")\n",
    "\n",
    "plt.subplot(1, 2, 2)\n",
    "plt.title(\"Alpha vs Score\", fontweight=\"bold\", size=18)\n",
    "plt.xlabel(\"alpha\")\n",
    "plt.ylabel(\"Score\")\n",
    "plt.ylim(0, 1)\n",
    "plt.plot(list_alpha, list_score, \"-g\")\n",
    "plt.show()"
   ]
  },
  {
   "cell_type": "code",
   "execution_count": 220,
   "id": "3133470f-dc3c-4eb3-9e79-6e75df8ef8b1",
   "metadata": {},
   "outputs": [
    {
     "data": {
      "text/plain": [
       "0.08181711071479587"
      ]
     },
     "execution_count": 220,
     "metadata": {},
     "output_type": "execute_result"
    }
   ],
   "source": [
    "mean_squared_error(t_test ,ridge.predict(x_test))"
   ]
  },
  {
   "cell_type": "code",
   "execution_count": 230,
   "id": "fe2b4b70-8a3d-4e6c-a2ea-f7fc3704e4e4",
   "metadata": {},
   "outputs": [
    {
     "data": {
      "text/plain": [
       "array([7.43094507, 7.3298203 , 7.35124693, ..., 6.93785394, 7.15715424,\n",
       "       6.86181904])"
      ]
     },
     "execution_count": 230,
     "metadata": {},
     "output_type": "execute_result"
    }
   ],
   "source": []
  },
  {
   "cell_type": "code",
   "execution_count": 234,
   "id": "998c9fdb-e052-49ac-83b3-7cc8c1415a3f",
   "metadata": {},
   "outputs": [],
   "source": [
    "result_ridge = pd.DataFrame(ridge.predict(X_test), columns=['取引価格（総額）_log'])\n",
    "pd.concat([test_df['ID'],result_ridge['取引価格（総額）_log']], axis=1).to_csv('./output/ridge_submission.csv', index = False)"
   ]
  },
  {
   "cell_type": "code",
   "execution_count": 233,
   "id": "38d6d90f-c178-431d-ba43-9beb62fcee93",
   "metadata": {},
   "outputs": [
    {
     "data": {
      "text/html": [
       "<div>\n",
       "<style scoped>\n",
       "    .dataframe tbody tr th:only-of-type {\n",
       "        vertical-align: middle;\n",
       "    }\n",
       "\n",
       "    .dataframe tbody tr th {\n",
       "        vertical-align: top;\n",
       "    }\n",
       "\n",
       "    .dataframe thead th {\n",
       "        text-align: right;\n",
       "    }\n",
       "</style>\n",
       "<table border=\"1\" class=\"dataframe\">\n",
       "  <thead>\n",
       "    <tr style=\"text-align: right;\">\n",
       "      <th></th>\n",
       "      <th>取引価格（総額）_log</th>\n",
       "    </tr>\n",
       "  </thead>\n",
       "  <tbody>\n",
       "    <tr>\n",
       "      <th>0</th>\n",
       "      <td>7.430945</td>\n",
       "    </tr>\n",
       "    <tr>\n",
       "      <th>1</th>\n",
       "      <td>7.329820</td>\n",
       "    </tr>\n",
       "    <tr>\n",
       "      <th>2</th>\n",
       "      <td>7.351247</td>\n",
       "    </tr>\n",
       "    <tr>\n",
       "      <th>3</th>\n",
       "      <td>7.627917</td>\n",
       "    </tr>\n",
       "    <tr>\n",
       "      <th>4</th>\n",
       "      <td>7.161137</td>\n",
       "    </tr>\n",
       "    <tr>\n",
       "      <th>...</th>\n",
       "      <td>...</td>\n",
       "    </tr>\n",
       "    <tr>\n",
       "      <th>17889</th>\n",
       "      <td>7.146346</td>\n",
       "    </tr>\n",
       "    <tr>\n",
       "      <th>17890</th>\n",
       "      <td>7.074657</td>\n",
       "    </tr>\n",
       "    <tr>\n",
       "      <th>17891</th>\n",
       "      <td>6.937854</td>\n",
       "    </tr>\n",
       "    <tr>\n",
       "      <th>17892</th>\n",
       "      <td>7.157154</td>\n",
       "    </tr>\n",
       "    <tr>\n",
       "      <th>17893</th>\n",
       "      <td>6.861819</td>\n",
       "    </tr>\n",
       "  </tbody>\n",
       "</table>\n",
       "<p>17894 rows × 1 columns</p>\n",
       "</div>"
      ],
      "text/plain": [
       "       取引価格（総額）_log\n",
       "0          7.430945\n",
       "1          7.329820\n",
       "2          7.351247\n",
       "3          7.627917\n",
       "4          7.161137\n",
       "...             ...\n",
       "17889      7.146346\n",
       "17890      7.074657\n",
       "17891      6.937854\n",
       "17892      7.157154\n",
       "17893      6.861819\n",
       "\n",
       "[17894 rows x 1 columns]"
      ]
     },
     "execution_count": 233,
     "metadata": {},
     "output_type": "execute_result"
    }
   ],
   "source": [
    "pd.DataFrame(ridge.predict(X_test), columns=['取引価格（総額）_log'])"
   ]
  },
  {
   "cell_type": "code",
   "execution_count": null,
   "id": "3040740d-3beb-422d-bfff-5a49cb41d85b",
   "metadata": {},
   "outputs": [],
   "source": []
  }
 ],
 "metadata": {
  "kernelspec": {
   "display_name": "Python 3",
   "language": "python",
   "name": "python3"
  },
  "language_info": {
   "codemirror_mode": {
    "name": "ipython",
    "version": 3
   },
   "file_extension": ".py",
   "mimetype": "text/x-python",
   "name": "python",
   "nbconvert_exporter": "python",
   "pygments_lexer": "ipython3",
   "version": "3.7.5"
  }
 },
 "nbformat": 4,
 "nbformat_minor": 5
}
